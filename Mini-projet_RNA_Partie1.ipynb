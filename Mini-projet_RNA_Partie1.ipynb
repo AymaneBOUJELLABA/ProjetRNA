{
 "cells": [
  {
   "cell_type": "markdown",
   "id": "d7dc4f7a",
   "metadata": {},
   "source": [
    "<h1 style=\"color:#880808; text-align : center\">Département Génie Informatique, FST de tanger, cycle ingénieur LSI/S4 2020-2021\n",
    "Module \"Apprentissage automatique\"</h1>\n",
    "<h2 style=\" text-align: center; color: #AA4A44\">Mini-projet Partie 1</h2>\n"
   ]
  },
  {
   "cell_type": "markdown",
   "id": "2109a2ca",
   "metadata": {},
   "source": [
    "<div class=\"title-box\" style=\"display:flex;\">\n",
    "    <div class=\"left-box\">\n",
    "        <h3 style=\"color:#CC5500;\">Encadré par : </h3>\n",
    "        <ul><li><h4>M.AIT KBIR</h4></li></ul>\n",
    "    </div>\n",
    "    <div class=\"right-box\" style=\"text-align : center\">\n",
    "        <h3 style=\"color:#CC5500\">Réalisé par : </h3>\n",
    "        <ul>\n",
    "            <li><h4>AKKAR Ferdaous</h4></li>\n",
    "            <li><h4>BOUJELLABA Aymane</h4></li>\n",
    "        </ul>\n",
    "    </div>\n",
    "</div>\n",
    "\n"
   ]
  },
  {
   "cell_type": "markdown",
   "id": "428a5437",
   "metadata": {},
   "source": [
    "<h3 style=\" color : #FF3131\">Objectif :</h3>\n",
    "<p>\n",
    "    Développement d'une application pour implémenter les solutions apportées par les modèles\n",
    "de réseaux de neurones artificiels au problème de prédiction du mouvement des prix dans l'indice <strong>S&P 500</strong>, à partir des valeurs\n",
    "    antérieures de l’indice. Le <strong>S&P 500</strong> est un indice boursier basé sur 500 grandes sociétés cotées\n",
    "sur les bourses américaines. L'indice est possédé et géré par <strong>Standard & Poor's</strong>, l'une des trois\n",
    "principales sociétés de notation financière du marché boursier américain.\n",
    "</p>"
   ]
  },
  {
   "cell_type": "code",
   "execution_count": null,
   "id": "7cc509db",
   "metadata": {},
   "outputs": [],
   "source": []
  },
  {
   "cell_type": "code",
   "execution_count": null,
   "id": "7a5ad623",
   "metadata": {},
   "outputs": [],
   "source": []
  },
  {
   "cell_type": "code",
   "execution_count": null,
   "id": "d0862745",
   "metadata": {},
   "outputs": [],
   "source": []
  },
  {
   "cell_type": "code",
   "execution_count": null,
   "id": "74e6f64e",
   "metadata": {},
   "outputs": [],
   "source": []
  },
  {
   "cell_type": "code",
   "execution_count": null,
   "id": "5779ef3a",
   "metadata": {},
   "outputs": [],
   "source": []
  },
  {
   "cell_type": "code",
   "execution_count": null,
   "id": "0816ac5f",
   "metadata": {},
   "outputs": [],
   "source": []
  },
  {
   "cell_type": "code",
   "execution_count": null,
   "id": "8c2a2c9b",
   "metadata": {},
   "outputs": [],
   "source": []
  },
  {
   "cell_type": "code",
   "execution_count": null,
   "id": "1f3440f8",
   "metadata": {},
   "outputs": [],
   "source": []
  },
  {
   "cell_type": "code",
   "execution_count": null,
   "id": "863a6ae6",
   "metadata": {},
   "outputs": [],
   "source": []
  },
  {
   "cell_type": "code",
   "execution_count": null,
   "id": "3b98fbf3",
   "metadata": {},
   "outputs": [],
   "source": []
  },
  {
   "cell_type": "code",
   "execution_count": null,
   "id": "47ffe687",
   "metadata": {},
   "outputs": [],
   "source": []
  },
  {
   "cell_type": "code",
   "execution_count": null,
   "id": "bf99957b",
   "metadata": {},
   "outputs": [],
   "source": []
  },
  {
   "cell_type": "code",
   "execution_count": null,
   "id": "a8758738",
   "metadata": {},
   "outputs": [],
   "source": []
  },
  {
   "cell_type": "code",
   "execution_count": null,
   "id": "1ffa685b",
   "metadata": {},
   "outputs": [],
   "source": []
  },
  {
   "cell_type": "code",
   "execution_count": null,
   "id": "01e57480",
   "metadata": {},
   "outputs": [],
   "source": []
  },
  {
   "cell_type": "code",
   "execution_count": null,
   "id": "a21879a5",
   "metadata": {},
   "outputs": [],
   "source": []
  },
  {
   "cell_type": "code",
   "execution_count": null,
   "id": "640522b7",
   "metadata": {},
   "outputs": [],
   "source": []
  },
  {
   "cell_type": "code",
   "execution_count": null,
   "id": "abef3c12",
   "metadata": {},
   "outputs": [],
   "source": []
  },
  {
   "cell_type": "code",
   "execution_count": null,
   "id": "8ec7c8a3",
   "metadata": {},
   "outputs": [],
   "source": []
  },
  {
   "cell_type": "code",
   "execution_count": null,
   "id": "9d786152",
   "metadata": {},
   "outputs": [],
   "source": []
  },
  {
   "cell_type": "code",
   "execution_count": null,
   "id": "634cb1eb",
   "metadata": {},
   "outputs": [],
   "source": []
  },
  {
   "cell_type": "code",
   "execution_count": null,
   "id": "229f72f1",
   "metadata": {},
   "outputs": [],
   "source": []
  },
  {
   "cell_type": "code",
   "execution_count": null,
   "id": "25801286",
   "metadata": {},
   "outputs": [],
   "source": []
  },
  {
   "cell_type": "code",
   "execution_count": null,
   "id": "7cc80561",
   "metadata": {},
   "outputs": [],
   "source": []
  },
  {
   "cell_type": "code",
   "execution_count": null,
   "id": "a35ef1ec",
   "metadata": {},
   "outputs": [],
   "source": []
  },
  {
   "cell_type": "code",
   "execution_count": null,
   "id": "60ec409b",
   "metadata": {},
   "outputs": [],
   "source": []
  },
  {
   "cell_type": "code",
   "execution_count": null,
   "id": "72196884",
   "metadata": {},
   "outputs": [],
   "source": []
  }
 ],
 "metadata": {
  "kernelspec": {
   "display_name": "Python 3",
   "language": "python",
   "name": "python3"
  },
  "language_info": {
   "codemirror_mode": {
    "name": "ipython",
    "version": 3
   },
   "file_extension": ".py",
   "mimetype": "text/x-python",
   "name": "python",
   "nbconvert_exporter": "python",
   "pygments_lexer": "ipython3",
   "version": "3.9.5"
  }
 },
 "nbformat": 4,
 "nbformat_minor": 5
}
